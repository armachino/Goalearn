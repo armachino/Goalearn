{
 "cells": [
  {
   "cell_type": "markdown",
   "id": "027fd192",
   "metadata": {},
   "source": [
    "# Salary prediction using machine learning methods\n",
    "\n",
    "### train model,handle missing data,salary is target.\n",
    "### predict for\n",
    "* 2 year experience, 9 test score, 6 interview score\n",
    "* 12 year experience, 10 test score, 10 interview score\n",
    "\n",
    "store result as a text file.\n",
    "\n",
    "### Data definition -> labeel\n",
    "* experience -> exp\n",
    "* test_score(out of 10) -> tscor\n",
    "* interview_score(out of 10) -> iscor\n",
    "* salary($) -> sal\n",
    "\n"
   ]
  },
  {
   "cell_type": "markdown",
   "id": "94d13f26",
   "metadata": {},
   "source": [
    "### Importing Needed packages\n",
    " "
   ]
  },
  {
   "cell_type": "code",
   "execution_count": 57,
   "id": "99d7f8cb",
   "metadata": {},
   "outputs": [],
   "source": [
    "import pandas as pd\n",
    "import numpy as np\n"
   ]
  },
  {
   "cell_type": "code",
   "execution_count": 58,
   "id": "73dab319",
   "metadata": {},
   "outputs": [
    {
     "name": "stdout",
     "output_type": "stream",
     "text": [
      "    exp  tscore  iscore    sal\n",
      "0   NaN     8.0       9  50000\n",
      "1   NaN     8.0       6  45000\n",
      "2   5.0     6.0       7  60000\n",
      "3   2.0    10.0      10  65000\n",
      "4   7.0     9.0       6  70000\n",
      "5   3.0     7.0      10  62000\n",
      "6  10.0     NaN       7  72000\n",
      "7  11.0     7.0       8  80000\n"
     ]
    }
   ],
   "source": [
    "df=pd.read_csv('./salary.csv')\n",
    "\n",
    "print(df.to_string())"
   ]
  },
  {
   "cell_type": "markdown",
   "id": "bd339142",
   "metadata": {},
   "source": [
    "### handle missing valus  "
   ]
  },
  {
   "cell_type": "code",
   "execution_count": 59,
   "id": "13eba361",
   "metadata": {},
   "outputs": [],
   "source": [
    "df=df.dropna()\n"
   ]
  },
  {
   "cell_type": "code",
   "execution_count": 60,
   "id": "e4d1d98a",
   "metadata": {},
   "outputs": [
    {
     "data": {
      "text/html": [
       "<div>\n",
       "<style scoped>\n",
       "    .dataframe tbody tr th:only-of-type {\n",
       "        vertical-align: middle;\n",
       "    }\n",
       "\n",
       "    .dataframe tbody tr th {\n",
       "        vertical-align: top;\n",
       "    }\n",
       "\n",
       "    .dataframe thead th {\n",
       "        text-align: right;\n",
       "    }\n",
       "</style>\n",
       "<table border=\"1\" class=\"dataframe\">\n",
       "  <thead>\n",
       "    <tr style=\"text-align: right;\">\n",
       "      <th></th>\n",
       "      <th>exp</th>\n",
       "      <th>tscore</th>\n",
       "      <th>iscore</th>\n",
       "      <th>sal</th>\n",
       "    </tr>\n",
       "  </thead>\n",
       "  <tbody>\n",
       "    <tr>\n",
       "      <th>count</th>\n",
       "      <td>5.000000</td>\n",
       "      <td>5.000000</td>\n",
       "      <td>5.000000</td>\n",
       "      <td>5.000000</td>\n",
       "    </tr>\n",
       "    <tr>\n",
       "      <th>mean</th>\n",
       "      <td>5.600000</td>\n",
       "      <td>7.800000</td>\n",
       "      <td>8.200000</td>\n",
       "      <td>67400.000000</td>\n",
       "    </tr>\n",
       "    <tr>\n",
       "      <th>std</th>\n",
       "      <td>3.577709</td>\n",
       "      <td>1.643168</td>\n",
       "      <td>1.788854</td>\n",
       "      <td>7987.490219</td>\n",
       "    </tr>\n",
       "    <tr>\n",
       "      <th>min</th>\n",
       "      <td>2.000000</td>\n",
       "      <td>6.000000</td>\n",
       "      <td>6.000000</td>\n",
       "      <td>60000.000000</td>\n",
       "    </tr>\n",
       "    <tr>\n",
       "      <th>25%</th>\n",
       "      <td>3.000000</td>\n",
       "      <td>7.000000</td>\n",
       "      <td>7.000000</td>\n",
       "      <td>62000.000000</td>\n",
       "    </tr>\n",
       "    <tr>\n",
       "      <th>50%</th>\n",
       "      <td>5.000000</td>\n",
       "      <td>7.000000</td>\n",
       "      <td>8.000000</td>\n",
       "      <td>65000.000000</td>\n",
       "    </tr>\n",
       "    <tr>\n",
       "      <th>75%</th>\n",
       "      <td>7.000000</td>\n",
       "      <td>9.000000</td>\n",
       "      <td>10.000000</td>\n",
       "      <td>70000.000000</td>\n",
       "    </tr>\n",
       "    <tr>\n",
       "      <th>max</th>\n",
       "      <td>11.000000</td>\n",
       "      <td>10.000000</td>\n",
       "      <td>10.000000</td>\n",
       "      <td>80000.000000</td>\n",
       "    </tr>\n",
       "  </tbody>\n",
       "</table>\n",
       "</div>"
      ],
      "text/plain": [
       "             exp     tscore     iscore           sal\n",
       "count   5.000000   5.000000   5.000000      5.000000\n",
       "mean    5.600000   7.800000   8.200000  67400.000000\n",
       "std     3.577709   1.643168   1.788854   7987.490219\n",
       "min     2.000000   6.000000   6.000000  60000.000000\n",
       "25%     3.000000   7.000000   7.000000  62000.000000\n",
       "50%     5.000000   7.000000   8.000000  65000.000000\n",
       "75%     7.000000   9.000000  10.000000  70000.000000\n",
       "max    11.000000  10.000000  10.000000  80000.000000"
      ]
     },
     "execution_count": 60,
     "metadata": {},
     "output_type": "execute_result"
    }
   ],
   "source": [
    "df.describe()"
   ]
  },
  {
   "cell_type": "markdown",
   "id": "dd9937a0",
   "metadata": {},
   "source": [
    "### Train and Test"
   ]
  },
  {
   "cell_type": "code",
   "execution_count": 63,
   "id": "2659847d",
   "metadata": {},
   "outputs": [],
   "source": [
    "from sklearn.model_selection import train_test_split\n",
    "X = df.iloc[:,0:3].values #exclude salary\n",
    "Y = df['sal'].values\n",
    "X_train, X_test, Y_train, Y_test = train_test_split(X,Y,test_size=0.3,random_state=4)\n"
   ]
  }
 ],
 "metadata": {
  "kernelspec": {
   "display_name": "Python 3 (ipykernel)",
   "language": "python",
   "name": "python3"
  },
  "language_info": {
   "codemirror_mode": {
    "name": "ipython",
    "version": 3
   },
   "file_extension": ".py",
   "mimetype": "text/x-python",
   "name": "python",
   "nbconvert_exporter": "python",
   "pygments_lexer": "ipython3",
   "version": "3.9.13"
  }
 },
 "nbformat": 4,
 "nbformat_minor": 5
}
