{
 "cells": [
  {
   "cell_type": "markdown",
   "id": "7c35fd66",
   "metadata": {},
   "source": [
    "# Dummy Variable\n",
    "use pandas to create dummy\n",
    "variables and save it into dummies.\n",
    "now tell me what is Dummy\n",
    "Variable Trap and how to avoid that?\n",
    "concatinate dummies to orginal data\n",
    "frame and drop extra column\n",
    "save csv file"
   ]
  },
  {
   "cell_type": "markdown",
   "id": "2ca2c1d1",
   "metadata": {},
   "source": [
    "### Import libraries "
   ]
  },
  {
   "cell_type": "code",
   "execution_count": 11,
   "id": "26f54cc4",
   "metadata": {},
   "outputs": [],
   "source": [
    "import pandas as pd\n",
    "import numpy as np\n"
   ]
  },
  {
   "cell_type": "markdown",
   "id": "1eda2ec9",
   "metadata": {},
   "source": [
    "### Reading data's"
   ]
  },
  {
   "cell_type": "code",
   "execution_count": 12,
   "id": "87da5c1c",
   "metadata": {},
   "outputs": [
    {
     "data": {
      "text/html": [
       "<div>\n",
       "<style scoped>\n",
       "    .dataframe tbody tr th:only-of-type {\n",
       "        vertical-align: middle;\n",
       "    }\n",
       "\n",
       "    .dataframe tbody tr th {\n",
       "        vertical-align: top;\n",
       "    }\n",
       "\n",
       "    .dataframe thead th {\n",
       "        text-align: right;\n",
       "    }\n",
       "</style>\n",
       "<table border=\"1\" class=\"dataframe\">\n",
       "  <thead>\n",
       "    <tr style=\"text-align: right;\">\n",
       "      <th></th>\n",
       "      <th>model</th>\n",
       "      <th>mileage</th>\n",
       "      <th>age</th>\n",
       "      <th>price</th>\n",
       "    </tr>\n",
       "  </thead>\n",
       "  <tbody>\n",
       "    <tr>\n",
       "      <th>0</th>\n",
       "      <td>BMW X5</td>\n",
       "      <td>69000</td>\n",
       "      <td>6</td>\n",
       "      <td>18000</td>\n",
       "    </tr>\n",
       "    <tr>\n",
       "      <th>1</th>\n",
       "      <td>BMW X5</td>\n",
       "      <td>35000</td>\n",
       "      <td>3</td>\n",
       "      <td>34000</td>\n",
       "    </tr>\n",
       "    <tr>\n",
       "      <th>2</th>\n",
       "      <td>BMW X5</td>\n",
       "      <td>57000</td>\n",
       "      <td>5</td>\n",
       "      <td>26100</td>\n",
       "    </tr>\n",
       "    <tr>\n",
       "      <th>3</th>\n",
       "      <td>BMW X5</td>\n",
       "      <td>22500</td>\n",
       "      <td>2</td>\n",
       "      <td>40000</td>\n",
       "    </tr>\n",
       "    <tr>\n",
       "      <th>4</th>\n",
       "      <td>BMW X5</td>\n",
       "      <td>46000</td>\n",
       "      <td>4</td>\n",
       "      <td>31500</td>\n",
       "    </tr>\n",
       "    <tr>\n",
       "      <th>5</th>\n",
       "      <td>Audi A5</td>\n",
       "      <td>59000</td>\n",
       "      <td>5</td>\n",
       "      <td>29400</td>\n",
       "    </tr>\n",
       "    <tr>\n",
       "      <th>6</th>\n",
       "      <td>Audi A5</td>\n",
       "      <td>52000</td>\n",
       "      <td>5</td>\n",
       "      <td>32000</td>\n",
       "    </tr>\n",
       "    <tr>\n",
       "      <th>7</th>\n",
       "      <td>Audi A5</td>\n",
       "      <td>72000</td>\n",
       "      <td>6</td>\n",
       "      <td>19300</td>\n",
       "    </tr>\n",
       "    <tr>\n",
       "      <th>8</th>\n",
       "      <td>Audi A5</td>\n",
       "      <td>91000</td>\n",
       "      <td>8</td>\n",
       "      <td>12000</td>\n",
       "    </tr>\n",
       "    <tr>\n",
       "      <th>9</th>\n",
       "      <td>Mercedez Benz C class</td>\n",
       "      <td>67000</td>\n",
       "      <td>6</td>\n",
       "      <td>22000</td>\n",
       "    </tr>\n",
       "    <tr>\n",
       "      <th>10</th>\n",
       "      <td>Mercedez Benz C class</td>\n",
       "      <td>83000</td>\n",
       "      <td>7</td>\n",
       "      <td>20000</td>\n",
       "    </tr>\n",
       "    <tr>\n",
       "      <th>11</th>\n",
       "      <td>Mercedez Benz C class</td>\n",
       "      <td>79000</td>\n",
       "      <td>7</td>\n",
       "      <td>21000</td>\n",
       "    </tr>\n",
       "    <tr>\n",
       "      <th>12</th>\n",
       "      <td>Mercedez Benz C class</td>\n",
       "      <td>59000</td>\n",
       "      <td>5</td>\n",
       "      <td>33000</td>\n",
       "    </tr>\n",
       "  </tbody>\n",
       "</table>\n",
       "</div>"
      ],
      "text/plain": [
       "                    model  mileage  age  price\n",
       "0                  BMW X5    69000    6  18000\n",
       "1                  BMW X5    35000    3  34000\n",
       "2                  BMW X5    57000    5  26100\n",
       "3                  BMW X5    22500    2  40000\n",
       "4                  BMW X5    46000    4  31500\n",
       "5                 Audi A5    59000    5  29400\n",
       "6                 Audi A5    52000    5  32000\n",
       "7                 Audi A5    72000    6  19300\n",
       "8                 Audi A5    91000    8  12000\n",
       "9   Mercedez Benz C class    67000    6  22000\n",
       "10  Mercedez Benz C class    83000    7  20000\n",
       "11  Mercedez Benz C class    79000    7  21000\n",
       "12  Mercedez Benz C class    59000    5  33000"
      ]
     },
     "execution_count": 12,
     "metadata": {},
     "output_type": "execute_result"
    }
   ],
   "source": [
    "# df=pd.read_clipboard()\n",
    "df=pd.read_excel('./data.xlsx')\n",
    "df"
   ]
  },
  {
   "cell_type": "markdown",
   "id": "b85b5ac5",
   "metadata": {},
   "source": [
    "### Get dummies"
   ]
  },
  {
   "cell_type": "code",
   "execution_count": 13,
   "id": "0c157024",
   "metadata": {},
   "outputs": [],
   "source": [
    "df=pd.get_dummies(df,drop_first=True)\n",
    "df.reset_index(drop=True, inplace=True)\n"
   ]
  },
  {
   "cell_type": "code",
   "execution_count": 14,
   "id": "80b81218",
   "metadata": {},
   "outputs": [],
   "source": [
    "X=df.loc[:, ~df.columns.isin(['price'])]\n",
    "Y=df[['price']]\n"
   ]
  },
  {
   "cell_type": "code",
   "execution_count": 15,
   "id": "0306a33e",
   "metadata": {},
   "outputs": [
    {
     "name": "stdout",
     "output_type": "stream",
     "text": [
      "Train set:\n",
      "     mileage  age  model_BMW X5  model_Mercedez Benz C class\n",
      "9     67000    6             0                            1\n",
      "6     52000    5             0                            0\n",
      "10    83000    7             0                            1\n",
      "1     35000    3             1                            0\n",
      "0     69000    6             1                            0\n",
      "11    79000    7             0                            1\n",
      "2     57000    5             1                            0\n",
      "8     91000    8             0                            0\n",
      "5     59000    5             0                            0\n",
      "12    59000    5             0                            1,\n",
      "      price\n",
      "9   22000\n",
      "6   32000\n",
      "10  20000\n",
      "1   34000\n",
      "0   18000\n",
      "11  21000\n",
      "2   26100\n",
      "8   12000\n",
      "5   29400\n",
      "12  33000\n",
      "Test set: \n",
      ",    mileage  age  model_BMW X5  model_Mercedez Benz C class\n",
      "3    22500    2             1                            0\n",
      "4    46000    4             1                            0\n",
      "7    72000    6             0                            0, \n",
      "    price\n",
      "3  40000\n",
      "4  31500\n",
      "7  19300\n"
     ]
    }
   ],
   "source": [
    "from sklearn.model_selection import train_test_split\n",
    "X_train, X_test, y_train, y_test = train_test_split(X, Y, test_size=0.2, random_state=10000)\n",
    "print (f'Train set:\\n {X_train},\\n  {y_train}')\n",
    "print (f'Test set: \\n, {X_test}, \\n {y_test}')\n",
    "\n"
   ]
  },
  {
   "cell_type": "markdown",
   "id": "b51ccb91",
   "metadata": {},
   "source": [
    "### Linear Regression"
   ]
  },
  {
   "cell_type": "code",
   "execution_count": 16,
   "id": "211c2551",
   "metadata": {},
   "outputs": [
    {
     "name": "stdout",
     "output_type": "stream",
     "text": [
      "Coefficients:  [[-8.56204454e-02 -4.77943139e+03 -5.97605460e+03  1.12775326e+03]]\n",
      "Intercept:  [58908.36497999]\n"
     ]
    }
   ],
   "source": [
    "from sklearn import linear_model\n",
    "regr = linear_model.LinearRegression()\n",
    "regr.fit (X_train, y_train)\n",
    "# The coefficients\n",
    "print ('Coefficients: ', regr.coef_)\n",
    "print ('Intercept: ',regr.intercept_)"
   ]
  },
  {
   "cell_type": "code",
   "execution_count": 17,
   "id": "5d878f8c",
   "metadata": {},
   "outputs": [
    {
     "name": "stdout",
     "output_type": "stream",
     "text": [
      "R2-score: 0.82\n"
     ]
    }
   ],
   "source": [
    "from sklearn.metrics import r2_score\n",
    "\n",
    "y_hat=regr.predict(X_test)\n",
    "\n",
    "\n",
    "print(\"R2-score: %.2f\" % r2_score(y_hat , y_test) )\n",
    "# print(y_hat,Y_test)\n",
    "\n",
    "\n"
   ]
  },
  {
   "cell_type": "markdown",
   "id": "a83efbcc",
   "metadata": {},
   "source": [
    "### Write Csv file"
   ]
  },
  {
   "cell_type": "code",
   "execution_count": 18,
   "id": "a880312f",
   "metadata": {},
   "outputs": [],
   "source": [
    "df.to_csv('../cars.csv', sep='\\t', encoding='utf-8')\n"
   ]
  }
 ],
 "metadata": {
  "kernelspec": {
   "display_name": "Python 3 (ipykernel)",
   "language": "python",
   "name": "python3"
  },
  "language_info": {
   "codemirror_mode": {
    "name": "ipython",
    "version": 3
   },
   "file_extension": ".py",
   "mimetype": "text/x-python",
   "name": "python",
   "nbconvert_exporter": "python",
   "pygments_lexer": "ipython3",
   "version": "3.9.13"
  }
 },
 "nbformat": 4,
 "nbformat_minor": 5
}
