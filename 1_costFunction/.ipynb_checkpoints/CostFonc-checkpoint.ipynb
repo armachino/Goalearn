{
 "cells": [
  {
   "cell_type": "markdown",
   "id": "3c223032",
   "metadata": {},
   "source": [
    "# Cost function & Gradiant Desent algorithem\n",
    "find values for\n",
    "coefficient , learning rate,. stop algoritem\n",
    "when relative cost in\n",
    "two sequence iteration be 1e-20,\n",
    "then return coefficient and intercept\n",
    "hint: use math.isclose(cost, cost_previous, rel_tol=1e-20) "
   ]
  },
  {
   "cell_type": "markdown",
   "id": "2bb3f6ee",
   "metadata": {},
   "source": [
    "### Import libraries "
   ]
  },
  {
   "cell_type": "code",
   "execution_count": 1,
   "id": "529a4083",
   "metadata": {},
   "outputs": [],
   "source": [
    "import pandas as pd\n",
    "import numpy as np\n",
    "import matplotlib.pyplot as plt"
   ]
  },
  {
   "cell_type": "markdown",
   "id": "1804e4a8",
   "metadata": {},
   "source": [
    "### Reading data's"
   ]
  },
  {
   "cell_type": "code",
   "execution_count": 2,
   "id": "cc16bfba",
   "metadata": {},
   "outputs": [
    {
     "data": {
      "text/html": [
       "<div>\n",
       "<style scoped>\n",
       "    .dataframe tbody tr th:only-of-type {\n",
       "        vertical-align: middle;\n",
       "    }\n",
       "\n",
       "    .dataframe tbody tr th {\n",
       "        vertical-align: top;\n",
       "    }\n",
       "\n",
       "    .dataframe thead th {\n",
       "        text-align: right;\n",
       "    }\n",
       "</style>\n",
       "<table border=\"1\" class=\"dataframe\">\n",
       "  <thead>\n",
       "    <tr style=\"text-align: right;\">\n",
       "      <th></th>\n",
       "      <th>name</th>\n",
       "      <th>math</th>\n",
       "      <th>cs</th>\n",
       "    </tr>\n",
       "  </thead>\n",
       "  <tbody>\n",
       "    <tr>\n",
       "      <th>0</th>\n",
       "      <td>david</td>\n",
       "      <td>92</td>\n",
       "      <td>98</td>\n",
       "    </tr>\n",
       "    <tr>\n",
       "      <th>1</th>\n",
       "      <td>laura</td>\n",
       "      <td>56</td>\n",
       "      <td>68</td>\n",
       "    </tr>\n",
       "    <tr>\n",
       "      <th>2</th>\n",
       "      <td>sanjay</td>\n",
       "      <td>88</td>\n",
       "      <td>81</td>\n",
       "    </tr>\n",
       "    <tr>\n",
       "      <th>3</th>\n",
       "      <td>wei</td>\n",
       "      <td>70</td>\n",
       "      <td>80</td>\n",
       "    </tr>\n",
       "    <tr>\n",
       "      <th>4</th>\n",
       "      <td>jeff</td>\n",
       "      <td>80</td>\n",
       "      <td>83</td>\n",
       "    </tr>\n",
       "  </tbody>\n",
       "</table>\n",
       "</div>"
      ],
      "text/plain": [
       "     name  math  cs\n",
       "0   david    92  98\n",
       "1   laura    56  68\n",
       "2  sanjay    88  81\n",
       "3     wei    70  80\n",
       "4    jeff    80  83"
      ]
     },
     "execution_count": 2,
     "metadata": {},
     "output_type": "execute_result"
    }
   ],
   "source": [
    "# df=pd.read_clipboard().to_csv()\n",
    "df=pd.read_csv('./scores.xlsx')\n",
    "df.head()"
   ]
  },
  {
   "cell_type": "markdown",
   "id": "e226e924",
   "metadata": {},
   "source": [
    "### Train"
   ]
  },
  {
   "cell_type": "code",
   "execution_count": 3,
   "id": "dca20ad0",
   "metadata": {},
   "outputs": [
    {
     "name": "stdout",
     "output_type": "stream",
     "text": [
      "Train set:\n",
      " [56 92 67 88 35 66 49] [68 98 73 81 30 68 52]\n",
      "Test set: \n",
      " [80 65 70] [83 66 80]\n"
     ]
    }
   ],
   "source": [
    "from sklearn.model_selection import train_test_split\n",
    "X_train, X_test, y_train, y_test = train_test_split(df.math.values, df.cs.values, test_size=0.25, random_state=10000)\n",
    "print ('Train set:\\n', X_train,  y_train)\n",
    "print ('Test set: \\n', X_test,  y_test)\n"
   ]
  },
  {
   "cell_type": "markdown",
   "id": "57bced48",
   "metadata": {},
   "source": [
    "### Linear Regression"
   ]
  },
  {
   "cell_type": "code",
   "execution_count": 4,
   "id": "68e2c4a8",
   "metadata": {},
   "outputs": [],
   "source": [
    "def mean_squared_error(y_true, y_predicted):\n",
    "     \n",
    "    # Calculating the loss or cost\n",
    "    cost = np.sum((y_true-y_predicted)**2) / 2/len(y_true)\n",
    "    return cost\n",
    "# print(mean_squared_error(y_test, y_hat))\n",
    "# print((y_test-y_hat))\n",
    "# print((y_test-y_hat)**2)\n",
    "# np.sum((y_test-y_hat)**2) /(len(y_test)*2)\n",
    "# from sklearn.metrics import r2_score\n",
    "# print(\"R2-score: %.2f\" % r2_score(y_test , y_hat) )"
   ]
  },
  {
   "cell_type": "code",
   "execution_count": 5,
   "id": "f6bc1a64",
   "metadata": {},
   "outputs": [],
   "source": [
    "# plt.scatter(df.math, df.cs,  color='blue')\n",
    "# plt.plot(X_train, reg.coef_[0]*X_train + reg.intercept_, '-r')\n",
    "\n",
    "# plt.xlabel(\"Math\")\n",
    "# plt.ylabel(\"CS\")\n",
    "# plt.show()"
   ]
  },
  {
   "cell_type": "code",
   "execution_count": 6,
   "id": "cfa12ff8",
   "metadata": {},
   "outputs": [],
   "source": [
    "# y_hat = reg.intercept_ + reg.coef_*teta"
   ]
  },
  {
   "cell_type": "code",
   "execution_count": 18,
   "id": "d3c6577b",
   "metadata": {},
   "outputs": [
    {
     "name": "stdout",
     "output_type": "stream",
     "text": [
      ")))_____\n",
      "\n",
      "\n",
      "Estimated Intercept: 1.8662499516135802\n",
      "Estimated coefficient: 1.0184272376197396\n"
     ]
    },
    {
     "data": {
      "image/png": "[encoded data removed]",
      "text/plain": [
       "<Figure size 800x600 with 1 Axes>"
      ]
     },
     "metadata": {},
     "output_type": "display_data"
    },
    {
     "data": {
      "image/png": "[encoded data removed]",
      "text/plain": [
       "<Figure size 800x600 with 1 Axes>"
      ]
     },
     "metadata": {},
     "output_type": "display_data"
    }
   ],
   "source": [
    "import math\n",
    "\n",
    "def mean_squared_error(y_true, y_predicted):\n",
    "     \n",
    "    # Calculating the loss or cost\n",
    "    cost = np.sum((y_true-y_predicted)**2) / 2/len(y_true)\n",
    "    return cost\n",
    " \n",
    "# Gradient Descent Function\n",
    "# Here iterations, learning_rate, stopping_threshold\n",
    "# are hyperparameters that can be tuned\n",
    "def gradient_descent(x, y, iterations = 1000, learning_rate = 0.001,stopping_threshold = 1e-5):\n",
    "     \n",
    "    # Initializing weight, bias, learning rate and iterations\n",
    "    current_weight = 0.1\n",
    "    current_bias = 0.01\n",
    "    iterations = iterations\n",
    "    learning_rate = learning_rate\n",
    "    n = float(len(x))\n",
    "     \n",
    "    costs = []\n",
    "    weights = []\n",
    "    previous_cost = None\n",
    "    i=0\n",
    "    # Estimation of optimal parameters\n",
    "    while True:\n",
    "        i+=1\n",
    "        # Making predictions\n",
    "        y_predicted = (current_weight * x) + current_bias\n",
    "         \n",
    "        # Calculationg the current cost\n",
    "        current_cost = mean_squared_error(y, y_predicted)\n",
    " \n",
    "        # If the change in cost is less than or equal to\n",
    "        # stopping_threshold we stop the gradient descent\n",
    "        #if previous_cost and abs(previous_cost-current_cost)<=stopping_threshold:\n",
    " \n",
    "        if previous_cost and math.isclose(current_cost, previous_cost, rel_tol=stopping_threshold):\n",
    "            print(f\"\\n\\nEstimated Intercept: {current_bias}\\nEstimated coefficient: {current_weight}\")\n",
    "            break\n",
    "            \n",
    "        previous_cost = current_cost\n",
    " \n",
    "        costs.append(current_cost)\n",
    "        weights.append(current_weight)\n",
    "         \n",
    "        # Calculating the gradients\n",
    "        weight_derivative = -(2/n) * sum(x * (y-y_predicted))\n",
    "        bias_derivative = -(2/n) * sum(y-y_predicted)\n",
    "         \n",
    "        # Updating weights and bias\n",
    "        current_weight = current_weight - (learning_rate * weight_derivative)\n",
    "        current_bias = current_bias - (learning_rate * bias_derivative)\n",
    "\n",
    "     \n",
    "    # Visualizing the weights and cost at for all iterations\n",
    "    plt.figure(figsize = (8,6))\n",
    "    plt.plot(weights, costs)\n",
    "    plt.scatter(weights, costs, marker='o', color='red')\n",
    "    plt.title(\"Cost vs Coefficient\")\n",
    "    plt.ylabel(\"Cost\")\n",
    "    plt.xlabel(\"Coefficient\")\n",
    "    plt.show()\n",
    "     \n",
    " \n",
    "def main():\n",
    "     \n",
    "    # Data\n",
    "    X = df.math.values\n",
    "    Y = df.cs.values\n",
    "    # Estimating weight and bias using gradient descent\n",
    "    estimated_weight, eatimated_bias = gradient_descent(df.math, df.cs, iterations=200000,learning_rate = 1e-4,stopping_threshold=1e-10)\n",
    " \n",
    "    # Making predictions using estimated parameters\n",
    "    Y_pred = estimated_weight*X + eatimated_bias\n",
    " \n",
    "    # Plotting the regression line\n",
    "    plt.figure(figsize = (8,6))\n",
    "    plt.scatter(X, Y, marker='o', color='red')\n",
    "    plt.plot([min(X), max(X)], [min(Y_pred), max(Y_pred)], color='blue',markerfacecolor='red',\n",
    "             markersize=10,linestyle='dashed')\n",
    "    plt.xlabel(\"Math\")\n",
    "    plt.ylabel(\"CS\")\n",
    "    plt.show()\n",
    "    \n",
    "main()"
   ]
  }
 ],
 "metadata": {
  "kernelspec": {
   "display_name": "Python 3 (ipykernel)",
   "language": "python",
   "name": "python3"
  },
  "language_info": {
   "codemirror_mode": {
    "name": "ipython",
    "version": 3
   },
   "file_extension": ".py",
   "mimetype": "text/x-python",
   "name": "python",
   "nbconvert_exporter": "python",
   "pygments_lexer": "ipython3",
   "version": "3.9.13"
  }
 },
 "nbformat": 4,
 "nbformat_minor": 5
}
